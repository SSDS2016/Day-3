{
 "cells": [
  {
   "cell_type": "markdown",
   "metadata": {},
   "source": [
    "Data Science Summer School - Split '16\n",
    "======================================"
   ]
  },
  {
   "cell_type": "markdown",
   "metadata": {},
   "source": [
    "Day 3 - part 1 - Feature selection\n",
    "--------------------------"
   ]
  },
  {
   "cell_type": "markdown",
   "metadata": {},
   "source": [
    "Matija Piškorec\n",
    "\n",
    "v0.0.3\n",
    "\n",
    "`kernel: Python 2.7`"
   ]
  },
  {
   "cell_type": "markdown",
   "metadata": {},
   "source": [
    "Prerequisites\n",
    "--------------\n",
    "\n",
    "We will use [Seaborn](https://stanford.edu/~mwaskom/software/seaborn/) package for some of the plots and for visual style of Matplotlib's plots. If it is not already installed in your Anaconda distribution you can install it by `conda install seaborn` in Anaconda console. For more details see documentation for [`conda install`](http://conda.pydata.org/docs/commands/conda-install.html).\n",
    "\n",
    "We will use the \"Wisconsin Breast Cancer\" dataset which is available locally in this notebook's folder. In general, this dataset is also available in scikit-learn (version 0.17.1). You can load it with:\n",
    "\n",
    "```python\n",
    "from sklearn.datasets import load_breast_cancer\n",
    "breast_cancer = load_breast_cancer()\n",
    "```\n",
    "\n",
    "And convert it to Pandas dataframe:\n",
    "\n",
    "```Python\n",
    "breast_cancer = pd.DataFrame(data=np.c_[breast_cancer['data'], breast_cancer['target']], \n",
    "                             columns=np.append(breast_cancer['feature_names'],'target'))\n",
    "```\n",
    "\n",
    "For other datasets available in scikit-learn see the documentation for [`sklearn.datasets`](http://scikit-learn.org/dev/modules/classes.html#module-sklearn.datasets)."
   ]
  },
  {
   "cell_type": "code",
   "execution_count": 1,
   "metadata": {
    "collapsed": false
   },
   "outputs": [],
   "source": [
    "%matplotlib inline\n",
    "import numpy as np\n",
    "import matplotlib.pyplot as plt\n",
    "import pandas as pd\n",
    "import seaborn as sns; sns.set()"
   ]
  },
  {
   "cell_type": "code",
   "execution_count": 2,
   "metadata": {
    "collapsed": false
   },
   "outputs": [
    {
     "data": {
      "text/html": [
       "<div>\n",
       "<table border=\"1\" class=\"dataframe\">\n",
       "  <thead>\n",
       "    <tr style=\"text-align: right;\">\n",
       "      <th></th>\n",
       "      <th>mean radius</th>\n",
       "      <th>mean texture</th>\n",
       "      <th>mean perimeter</th>\n",
       "      <th>mean area</th>\n",
       "      <th>mean smoothness</th>\n",
       "      <th>mean compactness</th>\n",
       "      <th>mean concavity</th>\n",
       "      <th>mean concave points</th>\n",
       "      <th>mean symmetry</th>\n",
       "      <th>mean fractal dimension</th>\n",
       "      <th>...</th>\n",
       "      <th>worst texture</th>\n",
       "      <th>worst perimeter</th>\n",
       "      <th>worst area</th>\n",
       "      <th>worst smoothness</th>\n",
       "      <th>worst compactness</th>\n",
       "      <th>worst concavity</th>\n",
       "      <th>worst concave points</th>\n",
       "      <th>worst symmetry</th>\n",
       "      <th>worst fractal dimension</th>\n",
       "      <th>target</th>\n",
       "    </tr>\n",
       "  </thead>\n",
       "  <tbody>\n",
       "    <tr>\n",
       "      <th>0</th>\n",
       "      <td>17.99</td>\n",
       "      <td>10.38</td>\n",
       "      <td>122.80</td>\n",
       "      <td>1001.0</td>\n",
       "      <td>0.11840</td>\n",
       "      <td>0.27760</td>\n",
       "      <td>0.3001</td>\n",
       "      <td>0.14710</td>\n",
       "      <td>0.2419</td>\n",
       "      <td>0.07871</td>\n",
       "      <td>...</td>\n",
       "      <td>17.33</td>\n",
       "      <td>184.60</td>\n",
       "      <td>2019.0</td>\n",
       "      <td>0.1622</td>\n",
       "      <td>0.6656</td>\n",
       "      <td>0.7119</td>\n",
       "      <td>0.2654</td>\n",
       "      <td>0.4601</td>\n",
       "      <td>0.11890</td>\n",
       "      <td>0.0</td>\n",
       "    </tr>\n",
       "    <tr>\n",
       "      <th>1</th>\n",
       "      <td>20.57</td>\n",
       "      <td>17.77</td>\n",
       "      <td>132.90</td>\n",
       "      <td>1326.0</td>\n",
       "      <td>0.08474</td>\n",
       "      <td>0.07864</td>\n",
       "      <td>0.0869</td>\n",
       "      <td>0.07017</td>\n",
       "      <td>0.1812</td>\n",
       "      <td>0.05667</td>\n",
       "      <td>...</td>\n",
       "      <td>23.41</td>\n",
       "      <td>158.80</td>\n",
       "      <td>1956.0</td>\n",
       "      <td>0.1238</td>\n",
       "      <td>0.1866</td>\n",
       "      <td>0.2416</td>\n",
       "      <td>0.1860</td>\n",
       "      <td>0.2750</td>\n",
       "      <td>0.08902</td>\n",
       "      <td>0.0</td>\n",
       "    </tr>\n",
       "    <tr>\n",
       "      <th>2</th>\n",
       "      <td>19.69</td>\n",
       "      <td>21.25</td>\n",
       "      <td>130.00</td>\n",
       "      <td>1203.0</td>\n",
       "      <td>0.10960</td>\n",
       "      <td>0.15990</td>\n",
       "      <td>0.1974</td>\n",
       "      <td>0.12790</td>\n",
       "      <td>0.2069</td>\n",
       "      <td>0.05999</td>\n",
       "      <td>...</td>\n",
       "      <td>25.53</td>\n",
       "      <td>152.50</td>\n",
       "      <td>1709.0</td>\n",
       "      <td>0.1444</td>\n",
       "      <td>0.4245</td>\n",
       "      <td>0.4504</td>\n",
       "      <td>0.2430</td>\n",
       "      <td>0.3613</td>\n",
       "      <td>0.08758</td>\n",
       "      <td>0.0</td>\n",
       "    </tr>\n",
       "    <tr>\n",
       "      <th>3</th>\n",
       "      <td>11.42</td>\n",
       "      <td>20.38</td>\n",
       "      <td>77.58</td>\n",
       "      <td>386.1</td>\n",
       "      <td>0.14250</td>\n",
       "      <td>0.28390</td>\n",
       "      <td>0.2414</td>\n",
       "      <td>0.10520</td>\n",
       "      <td>0.2597</td>\n",
       "      <td>0.09744</td>\n",
       "      <td>...</td>\n",
       "      <td>26.50</td>\n",
       "      <td>98.87</td>\n",
       "      <td>567.7</td>\n",
       "      <td>0.2098</td>\n",
       "      <td>0.8663</td>\n",
       "      <td>0.6869</td>\n",
       "      <td>0.2575</td>\n",
       "      <td>0.6638</td>\n",
       "      <td>0.17300</td>\n",
       "      <td>0.0</td>\n",
       "    </tr>\n",
       "    <tr>\n",
       "      <th>4</th>\n",
       "      <td>20.29</td>\n",
       "      <td>14.34</td>\n",
       "      <td>135.10</td>\n",
       "      <td>1297.0</td>\n",
       "      <td>0.10030</td>\n",
       "      <td>0.13280</td>\n",
       "      <td>0.1980</td>\n",
       "      <td>0.10430</td>\n",
       "      <td>0.1809</td>\n",
       "      <td>0.05883</td>\n",
       "      <td>...</td>\n",
       "      <td>16.67</td>\n",
       "      <td>152.20</td>\n",
       "      <td>1575.0</td>\n",
       "      <td>0.1374</td>\n",
       "      <td>0.2050</td>\n",
       "      <td>0.4000</td>\n",
       "      <td>0.1625</td>\n",
       "      <td>0.2364</td>\n",
       "      <td>0.07678</td>\n",
       "      <td>0.0</td>\n",
       "    </tr>\n",
       "  </tbody>\n",
       "</table>\n",
       "<p>5 rows × 31 columns</p>\n",
       "</div>"
      ],
      "text/plain": [
       "   mean radius  mean texture  mean perimeter  mean area  mean smoothness  \\\n",
       "0        17.99         10.38          122.80     1001.0          0.11840   \n",
       "1        20.57         17.77          132.90     1326.0          0.08474   \n",
       "2        19.69         21.25          130.00     1203.0          0.10960   \n",
       "3        11.42         20.38           77.58      386.1          0.14250   \n",
       "4        20.29         14.34          135.10     1297.0          0.10030   \n",
       "\n",
       "   mean compactness  mean concavity  mean concave points  mean symmetry  \\\n",
       "0           0.27760          0.3001              0.14710         0.2419   \n",
       "1           0.07864          0.0869              0.07017         0.1812   \n",
       "2           0.15990          0.1974              0.12790         0.2069   \n",
       "3           0.28390          0.2414              0.10520         0.2597   \n",
       "4           0.13280          0.1980              0.10430         0.1809   \n",
       "\n",
       "   mean fractal dimension   ...    worst texture  worst perimeter  worst area  \\\n",
       "0                 0.07871   ...            17.33           184.60      2019.0   \n",
       "1                 0.05667   ...            23.41           158.80      1956.0   \n",
       "2                 0.05999   ...            25.53           152.50      1709.0   \n",
       "3                 0.09744   ...            26.50            98.87       567.7   \n",
       "4                 0.05883   ...            16.67           152.20      1575.0   \n",
       "\n",
       "   worst smoothness  worst compactness  worst concavity  worst concave points  \\\n",
       "0            0.1622             0.6656           0.7119                0.2654   \n",
       "1            0.1238             0.1866           0.2416                0.1860   \n",
       "2            0.1444             0.4245           0.4504                0.2430   \n",
       "3            0.2098             0.8663           0.6869                0.2575   \n",
       "4            0.1374             0.2050           0.4000                0.1625   \n",
       "\n",
       "   worst symmetry  worst fractal dimension  target  \n",
       "0          0.4601                  0.11890     0.0  \n",
       "1          0.2750                  0.08902     0.0  \n",
       "2          0.3613                  0.08758     0.0  \n",
       "3          0.6638                  0.17300     0.0  \n",
       "4          0.2364                  0.07678     0.0  \n",
       "\n",
       "[5 rows x 31 columns]"
      ]
     },
     "execution_count": 2,
     "metadata": {},
     "output_type": "execute_result"
    }
   ],
   "source": [
    "breast_cancer = pd.read_csv('breast_cancer.csv',index_col=0)\n",
    "breast_cancer.head()"
   ]
  },
  {
   "cell_type": "code",
   "execution_count": 3,
   "metadata": {
    "collapsed": false
   },
   "outputs": [
    {
     "name": "stdout",
     "output_type": "stream",
     "text": [
      "<class 'pandas.core.frame.DataFrame'>\n",
      "Int64Index: 569 entries, 0 to 568\n",
      "Data columns (total 31 columns):\n",
      "mean radius                569 non-null float64\n",
      "mean texture               569 non-null float64\n",
      "mean perimeter             569 non-null float64\n",
      "mean area                  569 non-null float64\n",
      "mean smoothness            569 non-null float64\n",
      "mean compactness           569 non-null float64\n",
      "mean concavity             569 non-null float64\n",
      "mean concave points        569 non-null float64\n",
      "mean symmetry              569 non-null float64\n",
      "mean fractal dimension     569 non-null float64\n",
      "radius error               569 non-null float64\n",
      "texture error              569 non-null float64\n",
      "perimeter error            569 non-null float64\n",
      "area error                 569 non-null float64\n",
      "smoothness error           569 non-null float64\n",
      "compactness error          569 non-null float64\n",
      "concavity error            569 non-null float64\n",
      "concave points error       569 non-null float64\n",
      "symmetry error             569 non-null float64\n",
      "fractal dimension error    569 non-null float64\n",
      "worst radius               569 non-null float64\n",
      "worst texture              569 non-null float64\n",
      "worst perimeter            569 non-null float64\n",
      "worst area                 569 non-null float64\n",
      "worst smoothness           569 non-null float64\n",
      "worst compactness          569 non-null float64\n",
      "worst concavity            569 non-null float64\n",
      "worst concave points       569 non-null float64\n",
      "worst symmetry             569 non-null float64\n",
      "worst fractal dimension    569 non-null float64\n",
      "target                     569 non-null float64\n",
      "dtypes: float64(31)\n",
      "memory usage: 142.2 KB\n"
     ]
    }
   ],
   "source": [
    "breast_cancer.info()"
   ]
  },
  {
   "cell_type": "markdown",
   "metadata": {},
   "source": [
    "Although it is not strictly necessary in our case, we will follow a standard machine learning procedure and split our dataset into training and test set with [`sklearn.cross_validation.train_test_split`](http://scikit-learn.org/stable/modules/generated/sklearn.cross_validation.train_test_split.html), and perform all our analysis on the train set only."
   ]
  },
  {
   "cell_type": "code",
   "execution_count": 4,
   "metadata": {
    "collapsed": true
   },
   "outputs": [],
   "source": [
    "from sklearn.cross_validation import train_test_split"
   ]
  },
  {
   "cell_type": "code",
   "execution_count": 5,
   "metadata": {
    "collapsed": false
   },
   "outputs": [
    {
     "name": "stdout",
     "output_type": "stream",
     "text": [
      "Number of training examples: 455\n",
      "Number of test examples: 114\n"
     ]
    }
   ],
   "source": [
    "breast_cancer_train, breast_cancer_test = train_test_split(breast_cancer, test_size=0.20, random_state=42)\n",
    "print 'Number of training examples: ' + str(len(breast_cancer_train))\n",
    "print 'Number of test examples: ' + str(len(breast_cancer_test))"
   ]
  },
  {
   "cell_type": "markdown",
   "metadata": {},
   "source": [
    "1. Feature selection\n",
    "------------------\n",
    "\n",
    "The main goal of feature selection is to select a subset of most \"relevant\" features in order to 1) improve the predictive performance, 2) lower computational costs of predictive modeling and 3) improve the interpretability of models.\n",
    "\n",
    "Note the difference between the *feature selection*, where we select a subset of existing features, and *dimensionality reduction*, where we project our data onto a different feature space, usually because this different feature space has some beneficial mathematical properties. We will cover dimensionality reduction methods in the second part of these exercises.\n",
    "\n",
    "Scikit-learn [user guide](http://scikit-learn.org/stable/user_guide.html) has a section on feature selection [[1]](#scikit-feature-selection). Some of the following examples are from Chapter 4 of the book \"Python Machine Learning\" [[2]](#pyml-ch4) and Chapter 5 of the book \"Introduction to Machine Learning with Python\" [[3]](#intro-ml-py-ch5). Also, a good overview of feature selection is series of blog posts \"Selecting good features\" from [\"Diving into data\"](http://blog.datadive.net/) blog [[4]](#diving-into-data)."
   ]
  },
  {
   "cell_type": "markdown",
   "metadata": {},
   "source": [
    "1.1. Univariate feature selection\n",
    "-----------------------------------\n",
    "\n",
    "Univariate feature selection belongs to the *model-independent* method for feature selection, so called because they usually rely on statistical tests to evaluate feature relevance, instead of the predictive model. Out of these, *unsupervised* methods do not rely on the target variable, while *supervised* do. Probably the simplest unsupervised method is *variable variance* method, implemented in scikit-learn in [`sklearn.feature_selection.VarianceThreshold`](http://scikit-learn.org/stable/modules/generated/sklearn.feature_selection.VarianceThreshold.html#sklearn.feature_selection.VarianceThreshold), that excludes features which have variance below some threshold. Also, if we have two correlated features, we can remove one of them, usually the one that is evaluated as less relevant by other feature selection methods.\n",
    "\n",
    "In comparison to the unsupervised univariate methods, *supervised* univariate methods evaluate the importance of each feature individually by their relationship with the target variable. This is usually performed with a statistical test, for example Pearson's correlation coefficient, $\\chi^2$-statistics, mutual information, or ANOVA F-value. \n",
    "\n",
    "We will perform univariate feature selection on the breast cancer dataset using ANOVA F-value as measure of feature's relationship with the (categorical) target variable, implemented in [`sklearn.feature_selection.f_classif`](http://scikit-learn.org/stable/modules/generated/sklearn.feature_selection.f_classif.html#sklearn.feature_selection.f_classif). In a regression task, where target variable is numerical, we can use [`sklearn.feature_selection.f_regression`](http://scikit-learn.org/stable/modules/generated/sklearn.feature_selection.f_regression.html#sklearn.feature_selection.f_regression) instead. To make our example more clear we will add noise features to our dataset. Statistically, they are unrelated to the target variable and we expect them to be easily recognized by simple univariate feature selection. We can use either [`sklearn.feature_selection.SelectKBest`](http://scikit-learn.org/stable/modules/generated/sklearn.feature_selection.SelectKBest.html#sklearn.feature_selection.SelectKBest) or [`sklearn.feature_selection.SelectPercentile`](http://scikit-learn.org/stable/modules/generated/sklearn.feature_selection.SelectPercentile.html#sklearn.feature_selection.SelectPercentile), depending whether we want to select certain number of features or certain proportion of features. As we know that we have 30 *real* features and 10 *noise* features, we will choose exactly 30 features to see whether we can discriminate between the two. For a list of all feature selection methods in scikit-learn see [`sklearn.feature_selection`](http://scikit-learn.org/stable/modules/classes.html#module-sklearn.feature_selection).\n",
    "\n",
    "For a similar example see [\"Univariate feature selection\"](http://scikit-learn.org/stable/auto_examples/feature_selection/plot_feature_selection.html) in scikit-learn guide."
   ]
  },
  {
   "cell_type": "code",
   "execution_count": 6,
   "metadata": {
    "collapsed": true
   },
   "outputs": [],
   "source": [
    "from sklearn.feature_selection import SelectKBest, f_classif"
   ]
  },
  {
   "cell_type": "code",
   "execution_count": 7,
   "metadata": {
    "collapsed": false
   },
   "outputs": [
    {
     "data": {
      "text/html": [
       "<div>\n",
       "<table border=\"1\" class=\"dataframe\">\n",
       "  <thead>\n",
       "    <tr style=\"text-align: right;\">\n",
       "      <th></th>\n",
       "      <th>mean radius</th>\n",
       "      <th>mean texture</th>\n",
       "      <th>mean perimeter</th>\n",
       "      <th>mean area</th>\n",
       "      <th>mean smoothness</th>\n",
       "      <th>mean compactness</th>\n",
       "      <th>mean concavity</th>\n",
       "      <th>mean concave points</th>\n",
       "      <th>mean symmetry</th>\n",
       "      <th>mean fractal dimension</th>\n",
       "      <th>...</th>\n",
       "      <th>noise 0</th>\n",
       "      <th>noise 1</th>\n",
       "      <th>noise 2</th>\n",
       "      <th>noise 3</th>\n",
       "      <th>noise 4</th>\n",
       "      <th>noise 5</th>\n",
       "      <th>noise 6</th>\n",
       "      <th>noise 7</th>\n",
       "      <th>noise 8</th>\n",
       "      <th>noise 9</th>\n",
       "    </tr>\n",
       "  </thead>\n",
       "  <tbody>\n",
       "    <tr>\n",
       "      <th>0</th>\n",
       "      <td>17.99</td>\n",
       "      <td>10.38</td>\n",
       "      <td>122.80</td>\n",
       "      <td>1001.0</td>\n",
       "      <td>0.11840</td>\n",
       "      <td>0.27760</td>\n",
       "      <td>0.3001</td>\n",
       "      <td>0.14710</td>\n",
       "      <td>0.2419</td>\n",
       "      <td>0.07871</td>\n",
       "      <td>...</td>\n",
       "      <td>-0.324544</td>\n",
       "      <td>1.535563</td>\n",
       "      <td>-0.344322</td>\n",
       "      <td>0.629782</td>\n",
       "      <td>-0.038594</td>\n",
       "      <td>1.332814</td>\n",
       "      <td>-1.468184</td>\n",
       "      <td>-1.951812</td>\n",
       "      <td>1.704614</td>\n",
       "      <td>1.222373</td>\n",
       "    </tr>\n",
       "    <tr>\n",
       "      <th>1</th>\n",
       "      <td>20.57</td>\n",
       "      <td>17.77</td>\n",
       "      <td>132.90</td>\n",
       "      <td>1326.0</td>\n",
       "      <td>0.08474</td>\n",
       "      <td>0.07864</td>\n",
       "      <td>0.0869</td>\n",
       "      <td>0.07017</td>\n",
       "      <td>0.1812</td>\n",
       "      <td>0.05667</td>\n",
       "      <td>...</td>\n",
       "      <td>-0.308110</td>\n",
       "      <td>0.379271</td>\n",
       "      <td>-0.095357</td>\n",
       "      <td>0.207342</td>\n",
       "      <td>0.542954</td>\n",
       "      <td>-0.081032</td>\n",
       "      <td>3.332109</td>\n",
       "      <td>-0.177968</td>\n",
       "      <td>0.897145</td>\n",
       "      <td>0.720495</td>\n",
       "    </tr>\n",
       "    <tr>\n",
       "      <th>2</th>\n",
       "      <td>19.69</td>\n",
       "      <td>21.25</td>\n",
       "      <td>130.00</td>\n",
       "      <td>1203.0</td>\n",
       "      <td>0.10960</td>\n",
       "      <td>0.15990</td>\n",
       "      <td>0.1974</td>\n",
       "      <td>0.12790</td>\n",
       "      <td>0.2069</td>\n",
       "      <td>0.05999</td>\n",
       "      <td>...</td>\n",
       "      <td>-0.013971</td>\n",
       "      <td>-0.563795</td>\n",
       "      <td>-2.044158</td>\n",
       "      <td>-0.065342</td>\n",
       "      <td>-0.929606</td>\n",
       "      <td>1.276552</td>\n",
       "      <td>1.652728</td>\n",
       "      <td>-1.663378</td>\n",
       "      <td>0.266292</td>\n",
       "      <td>0.026355</td>\n",
       "    </tr>\n",
       "    <tr>\n",
       "      <th>3</th>\n",
       "      <td>11.42</td>\n",
       "      <td>20.38</td>\n",
       "      <td>77.58</td>\n",
       "      <td>386.1</td>\n",
       "      <td>0.14250</td>\n",
       "      <td>0.28390</td>\n",
       "      <td>0.2414</td>\n",
       "      <td>0.10520</td>\n",
       "      <td>0.2597</td>\n",
       "      <td>0.09744</td>\n",
       "      <td>...</td>\n",
       "      <td>-0.252759</td>\n",
       "      <td>-0.583498</td>\n",
       "      <td>1.528207</td>\n",
       "      <td>-0.303543</td>\n",
       "      <td>0.032746</td>\n",
       "      <td>0.424390</td>\n",
       "      <td>-0.171331</td>\n",
       "      <td>1.468756</td>\n",
       "      <td>-1.685016</td>\n",
       "      <td>2.092914</td>\n",
       "    </tr>\n",
       "    <tr>\n",
       "      <th>4</th>\n",
       "      <td>20.29</td>\n",
       "      <td>14.34</td>\n",
       "      <td>135.10</td>\n",
       "      <td>1297.0</td>\n",
       "      <td>0.10030</td>\n",
       "      <td>0.13280</td>\n",
       "      <td>0.1980</td>\n",
       "      <td>0.10430</td>\n",
       "      <td>0.1809</td>\n",
       "      <td>0.05883</td>\n",
       "      <td>...</td>\n",
       "      <td>2.934471</td>\n",
       "      <td>-0.824179</td>\n",
       "      <td>0.033407</td>\n",
       "      <td>1.455961</td>\n",
       "      <td>-0.268879</td>\n",
       "      <td>-0.260249</td>\n",
       "      <td>-0.836480</td>\n",
       "      <td>0.833841</td>\n",
       "      <td>0.473912</td>\n",
       "      <td>-0.361433</td>\n",
       "    </tr>\n",
       "  </tbody>\n",
       "</table>\n",
       "<p>5 rows × 41 columns</p>\n",
       "</div>"
      ],
      "text/plain": [
       "   mean radius  mean texture  mean perimeter  mean area  mean smoothness  \\\n",
       "0        17.99         10.38          122.80     1001.0          0.11840   \n",
       "1        20.57         17.77          132.90     1326.0          0.08474   \n",
       "2        19.69         21.25          130.00     1203.0          0.10960   \n",
       "3        11.42         20.38           77.58      386.1          0.14250   \n",
       "4        20.29         14.34          135.10     1297.0          0.10030   \n",
       "\n",
       "   mean compactness  mean concavity  mean concave points  mean symmetry  \\\n",
       "0           0.27760          0.3001              0.14710         0.2419   \n",
       "1           0.07864          0.0869              0.07017         0.1812   \n",
       "2           0.15990          0.1974              0.12790         0.2069   \n",
       "3           0.28390          0.2414              0.10520         0.2597   \n",
       "4           0.13280          0.1980              0.10430         0.1809   \n",
       "\n",
       "   mean fractal dimension    ...      noise 0   noise 1   noise 2   noise 3  \\\n",
       "0                 0.07871    ...    -0.324544  1.535563 -0.344322  0.629782   \n",
       "1                 0.05667    ...    -0.308110  0.379271 -0.095357  0.207342   \n",
       "2                 0.05999    ...    -0.013971 -0.563795 -2.044158 -0.065342   \n",
       "3                 0.09744    ...    -0.252759 -0.583498  1.528207 -0.303543   \n",
       "4                 0.05883    ...     2.934471 -0.824179  0.033407  1.455961   \n",
       "\n",
       "    noise 4   noise 5   noise 6   noise 7   noise 8   noise 9  \n",
       "0 -0.038594  1.332814 -1.468184 -1.951812  1.704614  1.222373  \n",
       "1  0.542954 -0.081032  3.332109 -0.177968  0.897145  0.720495  \n",
       "2 -0.929606  1.276552  1.652728 -1.663378  0.266292  0.026355  \n",
       "3  0.032746  0.424390 -0.171331  1.468756 -1.685016  2.092914  \n",
       "4 -0.268879 -0.260249 -0.836480  0.833841  0.473912 -0.361433  \n",
       "\n",
       "[5 rows x 41 columns]"
      ]
     },
     "execution_count": 7,
     "metadata": {},
     "output_type": "execute_result"
    }
   ],
   "source": [
    "breast_cancer = pd.read_csv('breast_cancer.csv',index_col=0)\n",
    "\n",
    "N_noise_features = 10\n",
    "noise_features = pd.DataFrame(np.random.randn(breast_cancer.shape[0],N_noise_features),\n",
    "                              index=breast_cancer.index,\n",
    "                              columns=['noise ' + str(i) for i in range(N_noise_features)])\n",
    "\n",
    "breast_cancer_extended = pd.concat([breast_cancer, noise_features], axis=1)\n",
    "\n",
    "breast_cancer_extended.head()"
   ]
  },
  {
   "cell_type": "code",
   "execution_count": 8,
   "metadata": {
    "collapsed": true
   },
   "outputs": [],
   "source": [
    "breast_cancer_train, breast_cancer_test = train_test_split(breast_cancer_extended, test_size=0.20, random_state=42)\n",
    "\n",
    "X_train = breast_cancer_train.drop('target',axis=1)\n",
    "y_train = breast_cancer_train['target']"
   ]
  },
  {
   "cell_type": "code",
   "execution_count": 9,
   "metadata": {
    "collapsed": false
   },
   "outputs": [],
   "source": [
    "k_best = 30\n",
    "selector = SelectKBest(f_classif, k=k_best)\n",
    "selector.fit(X_train, y_train)\n",
    "scores = -np.log10(selector.pvalues_)\n",
    "indices = np.argsort(scores)[::-1]"
   ]
  },
  {
   "cell_type": "code",
   "execution_count": 10,
   "metadata": {
    "collapsed": false
   },
   "outputs": [
    {
     "data": {
      "image/png": "[encoded data removed]",
      "text/plain": [
       "<matplotlib.figure.Figure at 0x9c26d90>"
      ]
     },
     "metadata": {},
     "output_type": "display_data"
    }
   ],
   "source": [
    "plt.figure(figsize=(7,5))\n",
    "\n",
    "plt.plot(range(X_train.shape[1]), scores[indices], 'o')\n",
    "\n",
    "plt.ylabel('log of the ANOVA p-value')\n",
    "plt.xlim([-1, X_train.shape[1]])\n",
    "plt.xticks(range(X_train.shape[1]), breast_cancer_train.drop('target',axis=1).columns.values[indices], rotation=90)\n",
    "plt.vlines(k_best-0.5, 0, np.max(scores), color='red', linestyle='--')\n",
    "plt.tight_layout()\n",
    "\n",
    "# Hack to color noise features in red\n",
    "[ i.set_color(\"red\") for i in plt.gca().get_xticklabels() if i.get_text()[:5] == 'noise' ]\n",
    "\n",
    "plt.show()"
   ]
  },
  {
   "cell_type": "markdown",
   "metadata": {},
   "source": [
    "We see that some of our original features are actually ranked below some of the noise features. This is not surprising as the features in question are probably not very informative, either because they are very obscure ('mean fractal dimension') or they code an error of a feature. This is still not a guarantee that these features are useless, but it can serve as a simple first step in the feature selection process.\n",
    "\n",
    "Hint: You can get a boolean mask for the selected features with `get_support()`."
   ]
  },
  {
   "cell_type": "markdown",
   "metadata": {},
   "source": [
    "**Exercise 1.1.** Instead of choosing specific number of features or a specific proportion of features to select, we can instead choose an upper limit on the proportion of *false discoveries* (that is, features for which we believe are related to the target variable when in fact they are not). Function [`sklearn.feature_selection.SelectFdr`](http://scikit-learn.org/stable/modules/generated/sklearn.feature_selection.SelectFdr.html#sklearn.feature_selection.SelectFdr) selects features using a Benjamini-Hochberg procedure, given an upper bound on the expected false discovery rate `alpha`. Use this function to select features with FDR rate `alpha=0.05`.\n",
    "\n",
    "**Exercise 1.2.** Choose a dataset with a numerical target variable and perform univariate feature selection using a regression measure, for example [`sklearn.feature_selection.f_regression`](http://scikit-learn.org/stable/modules/generated/sklearn.feature_selection.f_regression.html#sklearn.feature_selection.f_regression). You can use one of the regression datasets available in [`sklearn.datasets`](http://scikit-learn.org/dev/modules/classes.html#module-sklearn.datasets), for example [`sklearn.datasets.load_diabetes`](http://scikit-learn.org/dev/modules/generated/sklearn.datasets.load_diabetes.html#sklearn.datasets.load_diabetes) or [`sklearn.datasets.load_boston`](http://scikit-learn.org/dev/modules/generated/sklearn.datasets.load_boston.html#sklearn.datasets.load_boston)."
   ]
  },
  {
   "cell_type": "markdown",
   "metadata": {},
   "source": [
    "1.2. Feature selection using feature importances from a predictive model\n",
    "------------------------------------------------------\n",
    "\n",
    "In comparison to model-independent feature selection methods, *model-dependant* rely on a specific predictive model to evaluate feature importances. If a predictive model provides feature importances as a step in building the model, then these importances can be used directly. This is called *transparent model* approach. Another approach is to evaluate feature importance by their contribution to the predictive performance of the model by including or excluding them before building a model. This is called *wrapper* approach. \n",
    "\n",
    "In the example bellow we will calculate feature importances directly using a random forest classifier, implemented in scikit-learn with [`sklearn.ensemble.RandomForestClassifier`](http://scikit-learn.org/stable/modules/generated/sklearn.ensemble.RandomForestClassifier.html#sklearn.ensemble.RandomForestClassifier) (regression version is [`sklearn.ensemble.RandomForestRegressor`](http://scikit-learn.org/stable/modules/generated/sklearn.ensemble.RandomForestRegressor.html#sklearn.ensemble.RandomForestRegressor)), which evaluates feature importance through the position in the tree where the feature is used as a split node. Features that are higher in the tree influence larger fraction of samples and can be considered as more important."
   ]
  },
  {
   "cell_type": "code",
   "execution_count": 11,
   "metadata": {
    "collapsed": true
   },
   "outputs": [],
   "source": [
    "from sklearn.ensemble import RandomForestClassifier"
   ]
  },
  {
   "cell_type": "code",
   "execution_count": 12,
   "metadata": {
    "collapsed": true
   },
   "outputs": [],
   "source": [
    "breast_cancer = pd.read_csv('breast_cancer.csv',index_col=0)\n",
    "breast_cancer_train, breast_cancer_test = train_test_split(breast_cancer, test_size=0.20, random_state=42)"
   ]
  },
  {
   "cell_type": "code",
   "execution_count": 13,
   "metadata": {
    "collapsed": false
   },
   "outputs": [],
   "source": [
    "forest = RandomForestClassifier(n_estimators=1000,random_state=0,n_jobs=-1) # change n_jobs for paralelism!\n",
    "\n",
    "X_train = breast_cancer_train.drop('target',axis=1)\n",
    "y_train = breast_cancer_train['target']\n",
    "\n",
    "forest.fit(X_train, y_train)\n",
    "importances = forest.feature_importances_\n",
    "indices = np.argsort(importances)[::-1] # return indices that would sort an array (in reverse)"
   ]
  },
  {
   "cell_type": "code",
   "execution_count": 14,
   "metadata": {
    "collapsed": false
   },
   "outputs": [
    {
     "data": {
      "image/png": "[encoded data removed]",
      "text/plain": [
       "<matplotlib.figure.Figure at 0xa0c4670>"
      ]
     },
     "metadata": {},
     "output_type": "display_data"
    }
   ],
   "source": [
    "plt.figure(figsize=(7,5))\n",
    "\n",
    "plt.plot(range(X_train.shape[1]), importances[indices], 'o')\n",
    "\n",
    "plt.title('Feature importances from random forest')\n",
    "plt.ylabel('feature importances')\n",
    "plt.xlim([-1, X_train.shape[1]])\n",
    "plt.xticks(range(X_train.shape[1]), breast_cancer_train.drop('target',axis=1).columns.values[indices], rotation=90)\n",
    "plt.tight_layout()\n",
    "plt.show()"
   ]
  },
  {
   "cell_type": "markdown",
   "metadata": {},
   "source": [
    "**Exercise 1.3.** Each tree in a random forest ensemble evaluates feature importances individually. In the above example we plotted only the mean estimate for all trees. Calculate and plot standard deviation of all estimates. Hint: Individual trees are stored in `forest.estimators_`, and each tree has its own `feature_importances_` attribute. You can use [`matplotlib.pyplot.errorbar`](http://matplotlib.org/api/pyplot_api.html?highlight=errorbar#matplotlib.pyplot.errorbar) function for plotting. Also, take a look at the scikit-learn example [\"Feature importances with forests of trees\"](http://scikit-learn.org/stable/auto_examples/ensemble/plot_forest_importances.html#example-ensemble-plot-forest-importances-py).\n",
    "\n",
    "As each tree in the random forest ensemble evaluates feature importance individually, you can inspect the variance of the estimates:\n",
    "\n",
    "```Python\n",
    "importances_std = np.std([tree.feature_importances_ for tree in forest.estimators_],axis=0)\n",
    "```\n",
    "\n",
    "And plot it with the code above, using Matplotlib's `errorbar` instead of `plot`: \n",
    "\n",
    "```Python\n",
    "plt.errorbar(range(X_train.shape[1]), importances[indices], yerr=importances_std[indices], fmt='o')\n",
    "```"
   ]
  },
  {
   "cell_type": "markdown",
   "metadata": {},
   "source": [
    "**Exercise 1.4.** Use some other classifier for evaluation of feature importances, for example support vector machine classifier (SVC) implemented in [`sklearn.svm.SVC`](http://scikit-learn.org/stable/modules/generated/sklearn.svm.SVC.html). SVC calculates $k-1$ individual feature importances, where $k$ is the number of classes, and they are stored in `coef_` attribute (we have only two classes so we will get only one set of feature importances). Note: In case of SVC feature importances are available only for linear kernel. Performance note: [`sklearn.svm.SVC`](http://scikit-learn.org/stable/modules/generated/sklearn.svm.SVC.html) is based on [LIBSVM](http://www.csie.ntu.edu.tw/~cjlin/libsvm/) library. As an alternative, you can use [`sklearn.svm.LinearSVC`](http://scikit-learn.org/stable/modules/generated/sklearn.svm.LinearSVC.html#sklearn.svm.LinearSVC) which is based on [LIBLINEAR](http://www.csie.ntu.edu.tw/~cjlin/liblinear/) library. It provides only linear kernel but scales better to large number of examples."
   ]
  },
  {
   "cell_type": "code",
   "execution_count": 15,
   "metadata": {
    "collapsed": true
   },
   "outputs": [],
   "source": [
    "from sklearn.svm import SVC"
   ]
  },
  {
   "cell_type": "code",
   "execution_count": 16,
   "metadata": {
    "collapsed": false
   },
   "outputs": [],
   "source": [
    "svc = SVC(kernel='linear')\n",
    "\n",
    "X_train = breast_cancer_train.drop('target',axis=1).as_matrix()\n",
    "y_train = breast_cancer_train['target'].as_matrix()\n",
    "\n",
    "svc.fit(X_train, y_train);"
   ]
  },
  {
   "cell_type": "code",
   "execution_count": 17,
   "metadata": {
    "collapsed": false
   },
   "outputs": [
    {
     "data": {
      "image/png": "[encoded data removed]",
      "text/plain": [
       "<matplotlib.figure.Figure at 0xa516690>"
      ]
     },
     "metadata": {},
     "output_type": "display_data"
    }
   ],
   "source": [
    "importances_svc = svc.coef_.flatten() # As we have two classes we have just one set of feature importances\n",
    "indices_svc = np.argsort(importances_svc)[::-1]\n",
    "\n",
    "plt.figure(figsize=(7,5))\n",
    "\n",
    "plt.plot(range(X_train.shape[1]), importances_svc[indices_svc], 'o')\n",
    "\n",
    "plt.title('Feature importances from a SVC classifier')\n",
    "plt.ylabel('feature importances')\n",
    "plt.xlim([-1, X_train.shape[1]])\n",
    "plt.xticks(range(X_train.shape[1]), breast_cancer.columns.values, rotation=90)\n",
    "plt.tight_layout()\n",
    "plt.show()"
   ]
  },
  {
   "cell_type": "markdown",
   "metadata": {},
   "source": [
    "1.3. Recursive feature elimination\n",
    "--------------------------------------------\n",
    "\n",
    "The procedure of the recursive feature elimination (also known as the *backward selection*) is the following. First, evaluate feature importances using the dataset with the full set of features, then iteratively eliminate the worst ranking feature and reevaluate. We repeat the procedure until only a desired number of features is left. Note that this is a simple greedy strategy that does not guarantee to yield best possible feature set of a given size.\n",
    "\n",
    "Similar procedure is *forward selection*, with the exception that it starts with empty set of features and iteratively adds features one by one until desired number of them is obtained. Unfortunately, it is not implemented in scikit-learn.\n",
    "\n",
    "We will use [`sklearn.feature_selection.RFE`](http://scikit-learn.org/stable/modules/generated/sklearn.feature_selection.RFE.html#sklearn.feature_selection.RFE) for recursive feature elimination. Following example is inspired by [\"Recursive feature elimination\"](http://scikit-learn.org/stable/auto_examples/feature_selection/plot_rfe_digits.html#example-feature-selection-plot-rfe-digits-py) in scikit-learn user guide. Recursive feature elimination works on any predictive model that assigns feature importances. In the example below we will use random forest classifier implemented in [`sklearn.ensemble.RandomForestClassifier`](http://scikit-learn.org/stable/modules/generated/sklearn.ensemble.RandomForestClassifier.html#sklearn.ensemble.RandomForestClassifier)."
   ]
  },
  {
   "cell_type": "code",
   "execution_count": 18,
   "metadata": {
    "collapsed": true
   },
   "outputs": [],
   "source": [
    "from sklearn.feature_selection import RFE\n",
    "from sklearn.ensemble import RandomForestClassifier"
   ]
  },
  {
   "cell_type": "code",
   "execution_count": 19,
   "metadata": {
    "collapsed": true
   },
   "outputs": [],
   "source": [
    "breast_cancer = pd.read_csv('breast_cancer.csv',index_col=0)\n",
    "breast_cancer_train, breast_cancer_test = train_test_split(breast_cancer, test_size=0.20, random_state=42)\n",
    "\n",
    "X_train = breast_cancer_train.drop('target',axis=1)\n",
    "y_train = breast_cancer_train['target']"
   ]
  },
  {
   "cell_type": "code",
   "execution_count": 20,
   "metadata": {
    "collapsed": false
   },
   "outputs": [],
   "source": [
    "rfe_rf = RFE(RandomForestClassifier(n_estimators=100,random_state=0,n_jobs=-1), n_features_to_select=10, step=1)\n",
    "rfe_rf.fit(X_train, y_train);"
   ]
  },
  {
   "cell_type": "code",
   "execution_count": 21,
   "metadata": {
    "collapsed": false
   },
   "outputs": [
    {
     "name": "stdout",
     "output_type": "stream",
     "text": [
      "Selected features with RFE (using random forest):\n",
      " - mean texture\n",
      " - mean area\n",
      " - mean concavity\n",
      " - mean concave points\n",
      " - worst radius\n",
      " - worst texture\n",
      " - worst perimeter\n",
      " - worst area\n",
      " - worst concavity\n",
      " - worst concave points\n"
     ]
    }
   ],
   "source": [
    "print \"Selected features with RFE (using random forest):\"\n",
    "for i in list(breast_cancer_train.columns.values[:-1][rfe_rf.get_support()]): print ' - ' + str(i)"
   ]
  },
  {
   "cell_type": "markdown",
   "metadata": {},
   "source": [
    "**Exercise 1.5.** Instead of random forest, use logistic regression implemented in [`sklearn.linear_model.LogisticRegression`](http://scikit-learn.org/stable/modules/generated/sklearn.linear_model.LogisticRegression.html#sklearn.linear_model.LogisticRegression) and support vector machine classifier implemented in [`sklearn.svm.SVC`](http://scikit-learn.org/stable/modules/generated/sklearn.svm.SVC.html#sklearn.svm.SVC) for recursive feature elimination of 10 most informative features. Compare the features you obtained with the ones above."
   ]
  },
  {
   "cell_type": "code",
   "execution_count": 22,
   "metadata": {
    "collapsed": true
   },
   "outputs": [],
   "source": [
    "from sklearn.feature_selection import RFE\n",
    "from sklearn.svm import SVC\n",
    "from sklearn.linear_model import LogisticRegression"
   ]
  },
  {
   "cell_type": "code",
   "execution_count": 23,
   "metadata": {
    "collapsed": true
   },
   "outputs": [],
   "source": [
    "breast_cancer = pd.read_csv('breast_cancer.csv',index_col=0)\n",
    "breast_cancer_train, breast_cancer_test = train_test_split(breast_cancer, test_size=0.20, random_state=42)\n",
    "\n",
    "X_train = breast_cancer_train.drop('target',axis=1)\n",
    "y_train = breast_cancer_train['target']"
   ]
  },
  {
   "cell_type": "code",
   "execution_count": 24,
   "metadata": {
    "collapsed": true
   },
   "outputs": [],
   "source": [
    "rfe_svc = RFE(SVC(kernel='linear'), n_features_to_select=10, step=1)\n",
    "rfe_svc.fit(X_train, y_train);\n",
    "\n",
    "rfe_lr = RFE(LogisticRegression(), n_features_to_select=10, step=1)\n",
    "rfe_lr.fit(X_train, y_train);"
   ]
  },
  {
   "cell_type": "code",
   "execution_count": 25,
   "metadata": {
    "collapsed": false
   },
   "outputs": [
    {
     "name": "stdout",
     "output_type": "stream",
     "text": [
      "\n",
      "Selected features with RFE (using SVC):\n",
      " - mean radius\n",
      " - mean concavity\n",
      " - mean concave points\n",
      " - texture error\n",
      " - worst radius\n",
      " - worst smoothness\n",
      " - worst compactness\n",
      " - worst concavity\n",
      " - worst concave points\n",
      " - worst symmetry\n",
      "\n",
      "Selected features with RFE (using logistic regression):\n",
      " - mean radius\n",
      " - mean concavity\n",
      " - mean concave points\n",
      " - radius error\n",
      " - perimeter error\n",
      " - worst radius\n",
      " - worst perimeter\n",
      " - worst compactness\n",
      " - worst concavity\n",
      " - worst concave points\n"
     ]
    }
   ],
   "source": [
    "print \"\\nSelected features with RFE (using SVC):\"\n",
    "for i in list(breast_cancer.columns.values[:-1][rfe_svc.get_support()]): print ' - ' + str(i)\n",
    "    \n",
    "print \"\\nSelected features with RFE (using logistic regression):\"\n",
    "for i in list(breast_cancer.columns.values[:-1][rfe_lr.get_support()]): print ' - ' + str(i)"
   ]
  },
  {
   "cell_type": "markdown",
   "metadata": {},
   "source": [
    "1.4. Recursive feature elimination with cross validation\n",
    "--------------------------------------------\n",
    "\n",
    "While performing recursive feature elimination we had to define a number or a proportion of features we want to select in advance. But how many features is optimal? It would be more convenient if an algorithm could choose it for us. One of the ways to do it is with crossvalidation. Feature importance is still used to decide which features to eliminate, but the optimal number of features is selected with cross validation. For this we will use [`sklearn.feature_selection.RFECV`](http://scikit-learn.org/stable/modules/generated/sklearn.feature_selection.RFECV.html#sklearn.feature_selection.RFECV) with stratified 2-fold cross validation implemented in [`sklearn.cross_validation.StratifiedKFold`](http://scikit-learn.org/stable/modules/generated/sklearn.cross_validation.StratifiedKFold.html#sklearn.cross_validation.StratifiedKFold). For all available types of cross validation in scikit-learn see [`module-sklearn.cross_validation`](http://scikit-learn.org/stable/modules/classes.html#module-sklearn.cross_validation)). The example bellow is inspired by [\"Recursive feature elimination with cross-validation\"](http://scikit-learn.org/stable/auto_examples/feature_selection/plot_rfe_with_cross_validation.html#example-feature-selection-plot-rfe-with-cross-validation-py) in scikit-learn user guide."
   ]
  },
  {
   "cell_type": "code",
   "execution_count": 26,
   "metadata": {
    "collapsed": true
   },
   "outputs": [],
   "source": [
    "from sklearn.cross_validation import StratifiedKFold\n",
    "from sklearn.feature_selection import RFECV\n",
    "from sklearn.ensemble import RandomForestClassifier"
   ]
  },
  {
   "cell_type": "code",
   "execution_count": 27,
   "metadata": {
    "collapsed": true
   },
   "outputs": [],
   "source": [
    "breast_cancer = pd.read_csv('breast_cancer.csv',index_col=0)\n",
    "breast_cancer_train, breast_cancer_test = train_test_split(breast_cancer, test_size=0.20, random_state=42)\n",
    "\n",
    "X_train = breast_cancer_train.drop('target',axis=1)\n",
    "y_train = breast_cancer_train['target']"
   ]
  },
  {
   "cell_type": "code",
   "execution_count": 28,
   "metadata": {
    "collapsed": false
   },
   "outputs": [],
   "source": [
    "rfecv_rf = RFECV(RandomForestClassifier(n_estimators=100,random_state=0,n_jobs=-1), \n",
    "                 step=1, \n",
    "                 cv=StratifiedKFold(y_train, 2),\n",
    "                 scoring='accuracy')\n",
    "rfecv_rf.fit(X_train, y_train);"
   ]
  },
  {
   "cell_type": "code",
   "execution_count": 29,
   "metadata": {
    "collapsed": false
   },
   "outputs": [
    {
     "name": "stdout",
     "output_type": "stream",
     "text": [
      "Selected features with RFECV (using random forest):\n",
      " - mean radius\n",
      " - mean texture\n",
      " - mean perimeter\n",
      " - mean area\n",
      " - mean smoothness\n",
      " - mean concavity\n",
      " - mean concave points\n",
      " - radius error\n",
      " - area error\n",
      " - compactness error\n",
      " - concavity error\n",
      " - fractal dimension error\n",
      " - worst radius\n",
      " - worst texture\n",
      " - worst perimeter\n",
      " - worst area\n",
      " - worst smoothness\n",
      " - worst compactness\n",
      " - worst concavity\n",
      " - worst concave points\n",
      " - worst symmetry\n",
      " - worst fractal dimension\n"
     ]
    }
   ],
   "source": [
    "print \"Selected features with RFECV (using random forest):\"\n",
    "for i in list(breast_cancer.columns.values[:-1][rfecv_rf.get_support()]): print ' - ' + str(i)"
   ]
  },
  {
   "cell_type": "code",
   "execution_count": 30,
   "metadata": {
    "collapsed": false
   },
   "outputs": [
    {
     "data": {
      "image/png": "[encoded data removed]",
      "text/plain": [
       "<matplotlib.figure.Figure at 0x9db6d50>"
      ]
     },
     "metadata": {},
     "output_type": "display_data"
    }
   ],
   "source": [
    "plt.figure(figsize=(7,5))\n",
    "\n",
    "plt.plot(range(1, len(rfecv_rf.grid_scores_) + 1), rfecv_rf.grid_scores_, '-o')\n",
    "plt.xlabel('Number of features selected')\n",
    "plt.ylabel('Cross validation score')\n",
    "plt.title('random forests')\n",
    "plt.vlines(rfecv_rf.n_features_, np.min(rfecv_rf.grid_scores_), rfecv_rf.grid_scores_[rfecv_rf.n_features_-1], color='red', linestyle='--')\n",
    "plt.show()"
   ]
  },
  {
   "cell_type": "markdown",
   "metadata": {},
   "source": [
    "**Exercise 1.6.** Instead of random forest and stratified 2-fold cross validation use some other classifier and type of cross validation. For example, for classifier you could use support vector machine classifier (SVC) implemented in [`sklearn.svm.SVC`](http://scikit-learn.org/stable/modules/generated/sklearn.svm.SVC.html#sklearn.svm.SVC) or logistic regression implemented in [`sklearn.linear_model.LogisticRegression`](http://scikit-learn.org/stable/modules/generated/sklearn.linear_model.LogisticRegression.html#sklearn.linear_model.LogisticRegression). For crossvalidation you can use leave-one-out cross validation implemented in [`sklearn.cross_validation.LeaveOneOut`](http://scikit-learn.org/stable/modules/generated/sklearn.cross_validation.LeaveOneOut.html#sklearn.cross_validation.LeaveOneOut) or shuffle split crossvalidation implemented in [`sklearn.cross_validation.ShuffleSplit`](http://scikit-learn.org/stable/modules/generated/sklearn.cross_validation.ShuffleSplit.html#sklearn.cross_validation.ShuffleSplit). See [`module-sklearn.cross_validation`](http://scikit-learn.org/stable/modules/classes.html#module-sklearn.cross_validation) for all available cross validation types in scikit. Hint: You can use [`matplotlib.pyplot.subplot`](http://matplotlib.org/api/pyplot_api.html?highlight=subplot#matplotlib.pyplot.subplot) for plotting multiple figures."
   ]
  },
  {
   "cell_type": "code",
   "execution_count": 31,
   "metadata": {
    "collapsed": true
   },
   "outputs": [],
   "source": [
    "from sklearn.cross_validation import StratifiedKFold\n",
    "from sklearn.feature_selection import RFECV\n",
    "from sklearn.svm import SVC\n",
    "from sklearn.linear_model import LogisticRegression"
   ]
  },
  {
   "cell_type": "code",
   "execution_count": 32,
   "metadata": {
    "collapsed": true
   },
   "outputs": [],
   "source": [
    "breast_cancer = pd.read_csv('breast_cancer.csv',index_col=0)\n",
    "breast_cancer_train, breast_cancer_test = train_test_split(breast_cancer, test_size=0.20, random_state=42)\n",
    "\n",
    "X_train = breast_cancer_train.drop('target',axis=1)\n",
    "y_train = breast_cancer_train['target']"
   ]
  },
  {
   "cell_type": "code",
   "execution_count": 33,
   "metadata": {
    "collapsed": true
   },
   "outputs": [],
   "source": [
    "rfecv_svc = RFECV(SVC(kernel='linear'), \n",
    "                 step=1, \n",
    "                 cv=StratifiedKFold(y_train, 2),\n",
    "                 scoring='accuracy')\n",
    "rfecv_svc.fit(X_train, y_train);\n",
    "\n",
    "rfecv_lr = RFECV(LogisticRegression(), \n",
    "                 step=1, \n",
    "                 cv=StratifiedKFold(y_train, 2),\n",
    "                 scoring='accuracy')\n",
    "rfecv_lr.fit(X_train, y_train);"
   ]
  },
  {
   "cell_type": "code",
   "execution_count": 34,
   "metadata": {
    "collapsed": false
   },
   "outputs": [
    {
     "name": "stdout",
     "output_type": "stream",
     "text": [
      "\n",
      "Selected features with RFECV (using SVC):\n",
      " - mean radius\n",
      " - mean concavity\n",
      " - mean concave points\n",
      " - texture error\n",
      " - worst radius\n",
      " - worst smoothness\n",
      " - worst compactness\n",
      " - worst concavity\n",
      " - worst concave points\n",
      " - worst symmetry\n",
      "\n",
      "Selected features with RFECV (using logistic regression):\n",
      " - mean radius\n",
      " - mean texture\n",
      " - mean perimeter\n",
      " - mean smoothness\n",
      " - mean compactness\n",
      " - mean concavity\n",
      " - mean concave points\n",
      " - mean symmetry\n",
      " - mean fractal dimension\n",
      " - radius error\n",
      " - texture error\n",
      " - perimeter error\n",
      " - area error\n",
      " - concavity error\n",
      " - concave points error\n",
      " - symmetry error\n",
      " - worst radius\n",
      " - worst texture\n",
      " - worst perimeter\n",
      " - worst smoothness\n",
      " - worst compactness\n",
      " - worst concavity\n",
      " - worst concave points\n",
      " - worst symmetry\n",
      " - worst fractal dimension\n"
     ]
    }
   ],
   "source": [
    "print \"\\nSelected features with RFECV (using SVC):\"\n",
    "for i in list(breast_cancer.columns.values[:-1][rfecv_svc.get_support()]): print ' - ' + str(i)\n",
    "    \n",
    "print \"\\nSelected features with RFECV (using logistic regression):\"\n",
    "for i in list(breast_cancer.columns.values[:-1][rfecv_lr.get_support()]): print ' - ' + str(i)"
   ]
  },
  {
   "cell_type": "code",
   "execution_count": 35,
   "metadata": {
    "collapsed": false
   },
   "outputs": [
    {
     "data": {
      "image/png": "[encoded data removed]",
      "text/plain": [
       "<matplotlib.figure.Figure at 0x9dd9ab0>"
      ]
     },
     "metadata": {},
     "output_type": "display_data"
    }
   ],
   "source": [
    "fig, ax = plt.subplots(1, 2, figsize=(15, 5))\n",
    "\n",
    "ax[0].plot(range(1, len(rfecv_svc.grid_scores_) + 1), rfecv_svc.grid_scores_, '-o')\n",
    "ax[0].set(xlabel='Number of features selected',ylabel='Cross validation score',title='SVC')\n",
    "ax[0].vlines(rfecv_svc.n_features_, \n",
    "             np.min(rfecv_svc.grid_scores_), \n",
    "             rfecv_svc.grid_scores_[rfecv_svc.n_features_-1], \n",
    "             color='red', linestyle='--')\n",
    "\n",
    "ax[1].plot(range(1, len(rfecv_lr.grid_scores_) + 1), rfecv_lr.grid_scores_, '-o')\n",
    "ax[1].set(xlabel='Number of features selected',ylabel='Cross validation score',title='logistic regression')\n",
    "ax[1].vlines(rfecv_lr.n_features_, \n",
    "             np.min(rfecv_lr.grid_scores_), \n",
    "             rfecv_lr.grid_scores_[rfecv_lr.n_features_-1], \n",
    "             color='red', linestyle='--')\n",
    "\n",
    "plt.show()"
   ]
  },
  {
   "cell_type": "markdown",
   "metadata": {},
   "source": [
    "Literature\n",
    "-----------\n",
    "\n",
    "<a name=\"scikit-feature-selection\">[1]</a> *\"scikit-learn documentation - 1.13. Feature selection\"*, [link](http://scikit-learn.org/stable/modules/feature_selection.html#feature-selection)\n",
    "\n",
    "<a name=\"pyml-ch4\">[2]</a> *\"Python Machine Learning Code examples - Chapter 4 - Building Good Training\n",
    "Sets – Data Preprocessing\"*, [link](https://github.com/rasbt/python-machine-learning-book/blob/master/code/ch04/ch04.ipynb)\n",
    "\n",
    "<a name=\"intro-ml-py-ch5\">[3]</a> *\"Introduction to Machine Learning with Python - Chapter 5 - Representing data and engineering features\"* \n",
    "\n",
    "<a name=\"diving-into-data\">[4]</a> *\"Diving into data - Selecting good features\"*, [part 1](http://blog.datadive.net/selecting-good-features-part-i-univariate-selection/), [part 2](http://blog.datadive.net/selecting-good-features-part-ii-linear-models-and-regularization/), [part 3](http://blog.datadive.net/selecting-good-features-part-iii-random-forests/), [part 4](http://blog.datadive.net/selecting-good-features-part-iv-stability-selection-rfe-and-everything-side-by-side/) "
   ]
  }
 ],
 "metadata": {
  "anaconda-cloud": {},
  "kernelspec": {
   "display_name": "Python [Root]",
   "language": "python",
   "name": "Python [Root]"
  },
  "language_info": {
   "codemirror_mode": {
    "name": "ipython",
    "version": 2
   },
   "file_extension": ".py",
   "mimetype": "text/x-python",
   "name": "python",
   "nbconvert_exporter": "python",
   "pygments_lexer": "ipython2",
   "version": "2.7.12"
  }
 },
 "nbformat": 4,
 "nbformat_minor": 0
}
